{
  "nbformat": 4,
  "nbformat_minor": 0,
  "metadata": {
    "colab": {
      "provenance": [],
      "authorship_tag": "ABX9TyMcg7rxFGQ+u0JTYTCPD6fY",
      "include_colab_link": true
    },
    "kernelspec": {
      "name": "python3",
      "display_name": "Python 3"
    },
    "language_info": {
      "name": "python"
    }
  },
  "cells": [
    {
      "cell_type": "markdown",
      "metadata": {
        "id": "view-in-github",
        "colab_type": "text"
      },
      "source": [
        "<a href=\"https://colab.research.google.com/github/FrostLynn/pbo_kelompok/blob/main/Untitled8.ipynb\" target=\"_parent\"><img src=\"https://colab.research.google.com/assets/colab-badge.svg\" alt=\"Open In Colab\"/></a>"
      ]
    },
    {
      "cell_type": "markdown",
      "source": [
        "Import Library yang dibutuhkan"
      ],
      "metadata": {
        "id": "sCr0_1TWGHyr"
      }
    },
    {
      "cell_type": "code",
      "execution_count": 1,
      "metadata": {
        "id": "V8PS6ZYwFvlh"
      },
      "outputs": [],
      "source": [
        "import numpy as np"
      ]
    },
    {
      "cell_type": "code",
      "source": [
        "def board_print(board):\n",
        "    \"\"\"\n",
        "    Prints 9x9 numpy array input board in an easier to read format.\n",
        "    \"\"\"\n",
        "\n",
        "    # Some basic checks\n",
        "    assert board.shape == (9, 9)\n",
        "    assert type(board) == np.ndarray\n",
        "\n",
        "    # Convert array elements to strings\n",
        "    board_str = board.astype(str)\n",
        "\n",
        "    # Our row separator\n",
        "    row_sep = '-'*25\n",
        "\n",
        "    # Loop through 9 rows\n",
        "    for i in range(9):\n",
        "\n",
        "        # At each multiple of 3, print row separator\n",
        "        if i % 3 == 0:\n",
        "            print(row_sep)\n",
        "\n",
        "        # Get row data\n",
        "        row = board_str[i]\n",
        "\n",
        "        # Print\n",
        "        print('| '+' '.join(row[0:3])+' | '+' '.join(row[3:6])+' | '+' '.join(row[6:])+' |')\n",
        "\n",
        "    # Print final row separator at bottom after loops finish\n",
        "    print(row_sep)"
      ],
      "metadata": {
        "id": "TPYHPaIUGKU6"
      },
      "execution_count": 2,
      "outputs": []
    },
    {
      "cell_type": "code",
      "source": [
        "board_zeroes = np.zeros(shape=(9,9), dtype=int)\n",
        "board_zeroes"
      ],
      "metadata": {
        "colab": {
          "base_uri": "https://localhost:8080/"
        },
        "id": "QpQd3U-YGMz-",
        "outputId": "8df29ad9-08e4-4244-b0be-ada3cb032ef4"
      },
      "execution_count": 3,
      "outputs": [
        {
          "output_type": "execute_result",
          "data": {
            "text/plain": [
              "array([[0, 0, 0, 0, 0, 0, 0, 0, 0],\n",
              "       [0, 0, 0, 0, 0, 0, 0, 0, 0],\n",
              "       [0, 0, 0, 0, 0, 0, 0, 0, 0],\n",
              "       [0, 0, 0, 0, 0, 0, 0, 0, 0],\n",
              "       [0, 0, 0, 0, 0, 0, 0, 0, 0],\n",
              "       [0, 0, 0, 0, 0, 0, 0, 0, 0],\n",
              "       [0, 0, 0, 0, 0, 0, 0, 0, 0],\n",
              "       [0, 0, 0, 0, 0, 0, 0, 0, 0],\n",
              "       [0, 0, 0, 0, 0, 0, 0, 0, 0]])"
            ]
          },
          "metadata": {},
          "execution_count": 3
        }
      ]
    },
    {
      "cell_type": "code",
      "source": [
        "board_init = board_zeroes.copy()\n",
        "\n",
        "board_init[0,:] = [0,6,0,0,9,0,8,7,0]\n",
        "board_init[1,:] = [2,0,0,0,0,7,0,0,0]\n",
        "board_init[2,:] = [7,0,9,0,0,0,0,3,0]\n",
        "board_init[3,:] = [0,0,0,0,1,0,0,5,8]\n",
        "board_init[4,:] = [1,0,0,8,0,3,0,0,2]\n",
        "board_init[5,:] = [8,2,0,0,5,0,0,0,0]\n",
        "board_init[6,:] = [0,8,0,0,0,0,5,0,9]\n",
        "board_init[7,:] = [0,0,0,6,0,0,0,0,4]\n",
        "board_init[8,:] = [0,9,7,0,2,0,0,6,0]"
      ],
      "metadata": {
        "id": "jqOIN6qBGOhO"
      },
      "execution_count": 4,
      "outputs": []
    },
    {
      "cell_type": "code",
      "source": [
        "board_print(board_init)"
      ],
      "metadata": {
        "colab": {
          "base_uri": "https://localhost:8080/"
        },
        "id": "iH1vKZpnGQry",
        "outputId": "f17ea587-3852-4b0a-dd3c-cacdd657d759"
      },
      "execution_count": 5,
      "outputs": [
        {
          "output_type": "stream",
          "name": "stdout",
          "text": [
            "-------------------------\n",
            "| 0 6 0 | 0 9 0 | 8 7 0 |\n",
            "| 2 0 0 | 0 0 7 | 0 0 0 |\n",
            "| 7 0 9 | 0 0 0 | 0 3 0 |\n",
            "-------------------------\n",
            "| 0 0 0 | 0 1 0 | 0 5 8 |\n",
            "| 1 0 0 | 8 0 3 | 0 0 2 |\n",
            "| 8 2 0 | 0 5 0 | 0 0 0 |\n",
            "-------------------------\n",
            "| 0 8 0 | 0 0 0 | 5 0 9 |\n",
            "| 0 0 0 | 6 0 0 | 0 0 4 |\n",
            "| 0 9 7 | 0 2 0 | 0 6 0 |\n",
            "-------------------------\n"
          ]
        }
      ]
    },
    {
      "cell_type": "code",
      "source": [
        "def roundup_to_nearest_three(index):\n",
        "    roundup_float = np.ceil((index + 1) / 3) * 3 # Add 1 as indices start from 0\n",
        "    roundup_int = int(roundup_float)\n",
        "\n",
        "    return roundup_int"
      ],
      "metadata": {
        "id": "nchuyEzrGSJr"
      },
      "execution_count": 13,
      "outputs": []
    },
    {
      "cell_type": "code",
      "source": [
        "def check_unique(board, row, column):\n",
        "    # Get distinct values from row and column\n",
        "    row_values = np.unique(board[row,:])\n",
        "    col_values = np.unique(board[:,column])\n",
        "\n",
        "    # First define the sub cell that the row/column falls into\n",
        "    # This will be a group of 3 in each axis\n",
        "    row_end_pos = roundup_to_nearest_three(row)\n",
        "    col_end_pos = roundup_to_nearest_three(column)\n",
        "\n",
        "    # Then get distinct values from sub cells\n",
        "    box_values = np.unique(board[row_end_pos-3:row_end_pos,\n",
        "                                 col_end_pos-3:col_end_pos])\n",
        "\n",
        "    # Bring all into one list\n",
        "    all_values = np.concatenate((row_values, col_values, box_values), axis=None)\n",
        "\n",
        "    # Then take the unique values from all of them\n",
        "    unique_values = np.unique(all_values)\n",
        "\n",
        "    return unique_values"
      ],
      "metadata": {
        "id": "Zvbn6saoGToW"
      },
      "execution_count": 14,
      "outputs": []
    },
    {
      "cell_type": "code",
      "source": [
        "check_unique(board_init, 3, 2)"
      ],
      "metadata": {
        "colab": {
          "base_uri": "https://localhost:8080/"
        },
        "id": "k2C8E1RSGU1z",
        "outputId": "78b5337e-0df7-474a-95c5-fed91c78a9cc"
      },
      "execution_count": 15,
      "outputs": [
        {
          "output_type": "execute_result",
          "data": {
            "text/plain": [
              "array([0, 1, 2, 5, 7, 8, 9])"
            ]
          },
          "metadata": {},
          "execution_count": 15
        }
      ]
    },
    {
      "cell_type": "code",
      "source": [
        "def fill_values(board, row, column):\n",
        "    # We're only interested in values not yet filled\n",
        "    if board[row,column] == 0:\n",
        "        existing_values = check_unique(board, row, column)\n",
        "        potential_values = [value for value in range(1,10) if value not in existing_values]\n",
        "\n",
        "        # If there's only one potential solution, overwrite zero with that value\n",
        "        if len(potential_values) == 1:\n",
        "            board_play[row,column] = potential_values[0]\n",
        "            print('Row: ', str(row + 1), '& Col: ', str(column + 1), ' overwritten with ', str(potential_values[0]))"
      ],
      "metadata": {
        "id": "p23aCd0OGV_k"
      },
      "execution_count": 16,
      "outputs": []
    },
    {
      "cell_type": "code",
      "source": [
        "board_play = board_init.copy()\n",
        "\n",
        "# Restrict to max of 10 loops of the board\n",
        "for i in range(10):\n",
        "\n",
        "    # Loop through table columns & rows\n",
        "    for row in range(9):\n",
        "        for column in range(9):\n",
        "            fill_values(board_play, row, column)\n",
        "\n",
        "    print('\\n Loop number ', str(i + 1), ' complete \\n')\n",
        "\n",
        "    # Checks array for number of non-filled values remaining\n",
        "    zeroes_remaining = np.count_nonzero(board_play == 0)\n",
        "\n",
        "    if zeroes_remaining == 0:\n",
        "        print('Finished!')\n",
        "        break\n",
        "    else:\n",
        "        print(' ', str(zeroes_remaining), ' zeroes left\\n')\n",
        "\n",
        "board_print(board_play)"
      ],
      "metadata": {
        "colab": {
          "base_uri": "https://localhost:8080/"
        },
        "id": "1EEip0siGXcn",
        "outputId": "3662580d-09f8-4172-cf1e-8b589338723a"
      },
      "execution_count": 17,
      "outputs": [
        {
          "output_type": "stream",
          "name": "stdout",
          "text": [
            "\n",
            " Loop number  1  complete \n",
            "\n",
            "  53  zeroes left\n",
            "\n",
            "\n",
            " Loop number  2  complete \n",
            "\n",
            "  53  zeroes left\n",
            "\n",
            "\n",
            " Loop number  3  complete \n",
            "\n",
            "  53  zeroes left\n",
            "\n",
            "\n",
            " Loop number  4  complete \n",
            "\n",
            "  53  zeroes left\n",
            "\n",
            "\n",
            " Loop number  5  complete \n",
            "\n",
            "  53  zeroes left\n",
            "\n",
            "\n",
            " Loop number  6  complete \n",
            "\n",
            "  53  zeroes left\n",
            "\n",
            "\n",
            " Loop number  7  complete \n",
            "\n",
            "  53  zeroes left\n",
            "\n",
            "\n",
            " Loop number  8  complete \n",
            "\n",
            "  53  zeroes left\n",
            "\n",
            "\n",
            " Loop number  9  complete \n",
            "\n",
            "  53  zeroes left\n",
            "\n",
            "\n",
            " Loop number  10  complete \n",
            "\n",
            "  53  zeroes left\n",
            "\n",
            "-------------------------\n",
            "| 0 6 0 | 0 9 0 | 8 7 0 |\n",
            "| 2 0 0 | 0 0 7 | 0 0 0 |\n",
            "| 7 0 9 | 0 0 0 | 0 3 0 |\n",
            "-------------------------\n",
            "| 0 0 0 | 0 1 0 | 0 5 8 |\n",
            "| 1 0 0 | 8 0 3 | 0 0 2 |\n",
            "| 8 2 0 | 0 5 0 | 0 0 0 |\n",
            "-------------------------\n",
            "| 0 8 0 | 0 0 0 | 5 0 9 |\n",
            "| 0 0 0 | 6 0 0 | 0 0 4 |\n",
            "| 0 9 7 | 0 2 0 | 0 6 0 |\n",
            "-------------------------\n"
          ]
        }
      ]
    }
  ]
}